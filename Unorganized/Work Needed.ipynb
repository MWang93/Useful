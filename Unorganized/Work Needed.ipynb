{
 "cells": [
  {
   "cell_type": "markdown",
   "metadata": {},
   "source": [
    "#### Time Count"
   ]
  },
  {
   "cell_type": "code",
   "execution_count": null,
   "metadata": {},
   "outputs": [],
   "source": [
    "t_start = time()\n",
    "print('done in %0.3f minutes.' % ((time() - t_start) / 60))"
   ]
  },
  {
   "cell_type": "markdown",
   "metadata": {},
   "source": [
    "#### Time Related"
   ]
  },
  {
   "cell_type": "code",
   "execution_count": 10,
   "metadata": {},
   "outputs": [
    {
     "name": "stdout",
     "output_type": "stream",
     "text": [
      "2018-06-01 2018-08-29\n"
     ]
    }
   ],
   "source": [
    "date_format = \"%Y-%m-%d\"\n",
    "from datetime import datetime\n",
    "from datetime import timedelta\n",
    "from datetime import date\n",
    "\n",
    "now = str(date.today())\n",
    "start = datetime.strptime(now, date_format)+timedelta(days=-2)\n",
    "start.strftime(date_format)\n",
    "\n",
    "now = datetime.now()\n",
    "start = now + timedelta(days=-90)\n",
    "start = start.strftime(date_format)\n",
    "end = now + timedelta(days=-1)\n",
    "end = end.strftime(date_format)\n",
    "\n",
    "print(start,end)"
   ]
  },
  {
   "cell_type": "markdown",
   "metadata": {},
   "source": [
    "#### Time Loop"
   ]
  },
  {
   "cell_type": "code",
   "execution_count": 3,
   "metadata": {},
   "outputs": [
    {
     "name": "stdout",
     "output_type": "stream",
     "text": [
      "['2018', '08', '25']\n",
      "['2018', '08', '26']\n",
      "['2018', '08', '27']\n",
      "['2018', '08', '28']\n",
      "['2018', '08', '29']\n"
     ]
    }
   ],
   "source": [
    "from datetime import date\n",
    "from dateutil.rrule import rrule, DAILY\n",
    "a = date(2018, 8, 25)\n",
    "b = date(2018, 8, 29)\n",
    "for dt in rrule(DAILY, dtstart=a, until=b):\n",
    "    datelist = dt.strftime('%Y-%m-%d').split('-')\n",
    "    print(datelist)"
   ]
  },
  {
   "cell_type": "markdown",
   "metadata": {},
   "source": [
    "#### DataFrame "
   ]
  },
  {
   "cell_type": "code",
   "execution_count": 8,
   "metadata": {},
   "outputs": [],
   "source": [
    "import pandas as pd\n",
    "columns = ['a','b']\n",
    "df = pd.DataFrame(columns=columns)\n",
    "\n",
    "rows = [[1,2],[3,4],[5,6]]\n",
    "for row in rows:\n",
    "    df.loc[len(df)] = row"
   ]
  },
  {
   "cell_type": "markdown",
   "metadata": {},
   "source": [
    "#### Filter Rows\n",
    "-  https://stackoverflow.com/questions/15325182/how-to-filter-rows-in-pandas-by-regex"
   ]
  }
 ],
 "metadata": {
  "kernelspec": {
   "display_name": "Python 3",
   "language": "python",
   "name": "python3"
  },
  "language_info": {
   "codemirror_mode": {
    "name": "ipython",
    "version": 3
   },
   "file_extension": ".py",
   "mimetype": "text/x-python",
   "name": "python",
   "nbconvert_exporter": "python",
   "pygments_lexer": "ipython3",
   "version": "3.6.5"
  }
 },
 "nbformat": 4,
 "nbformat_minor": 2
}
