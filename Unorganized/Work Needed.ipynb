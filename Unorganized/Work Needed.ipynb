{
 "cells": [
  {
   "cell_type": "markdown",
   "metadata": {},
   "source": [
    "#### Time Count"
   ]
  },
  {
   "cell_type": "code",
   "execution_count": 178,
   "metadata": {},
   "outputs": [
    {
     "name": "stdout",
     "output_type": "stream",
     "text": [
      "done in 0.000 minutes.\n"
     ]
    }
   ],
   "source": [
    "from time import time\n",
    "t_start = time()\n",
    "print('done in %0.3f minutes.' % ((time() - t_start) / 60))"
   ]
  },
  {
   "cell_type": "markdown",
   "metadata": {},
   "source": [
    "#### Time Related"
   ]
  },
  {
   "cell_type": "code",
   "execution_count": 10,
   "metadata": {},
   "outputs": [
    {
     "name": "stdout",
     "output_type": "stream",
     "text": [
      "2018-06-01 2018-08-29\n"
     ]
    }
   ],
   "source": [
    "date_format = \"%Y-%m-%d\"\n",
    "from datetime import datetime\n",
    "from datetime import timedelta\n",
    "from datetime import date\n",
    "\n",
    "now = str(date.today())\n",
    "start = datetime.strptime(now, date_format)+timedelta(days=-2)\n",
    "start.strftime(date_format)\n",
    "\n",
    "now = datetime.now()\n",
    "start = now + timedelta(days=-90)\n",
    "start = start.strftime(date_format)\n",
    "end = now + timedelta(days=-1)\n",
    "end = end.strftime(date_format)\n",
    "\n",
    "print(start,end)"
   ]
  },
  {
   "cell_type": "markdown",
   "metadata": {},
   "source": [
    "#### Time Loop"
   ]
  },
  {
   "cell_type": "code",
   "execution_count": 3,
   "metadata": {},
   "outputs": [
    {
     "name": "stdout",
     "output_type": "stream",
     "text": [
      "['2018', '08', '25']\n",
      "['2018', '08', '26']\n",
      "['2018', '08', '27']\n",
      "['2018', '08', '28']\n",
      "['2018', '08', '29']\n"
     ]
    }
   ],
   "source": [
    "from datetime import date\n",
    "from dateutil.rrule import rrule, DAILY\n",
    "a = date(2018, 8, 25)\n",
    "b = date(2018, 8, 29)\n",
    "for dt in rrule(DAILY, dtstart=a, until=b):\n",
    "    datelist = dt.strftime('%Y-%m-%d').split('-')\n",
    "    print(datelist)"
   ]
  },
  {
   "cell_type": "markdown",
   "metadata": {},
   "source": [
    "#### List"
   ]
  },
  {
   "cell_type": "code",
   "execution_count": 149,
   "metadata": {},
   "outputs": [],
   "source": [
    "# append\n",
    "stack = ['a','b']\n",
    "stack.append(['e','f'])\n",
    "# extend\n",
    "stack.extend(['e','f'])"
   ]
  },
  {
   "cell_type": "code",
   "execution_count": 374,
   "metadata": {},
   "outputs": [],
   "source": [
    "# sort\n",
    "cars = ['Ford', 'BMW', 'Volvo']\n",
    "cars.sort(reverse=True)"
   ]
  },
  {
   "cell_type": "code",
   "execution_count": 375,
   "metadata": {},
   "outputs": [
    {
     "data": {
      "text/plain": [
       "['Volvo', 'Ford', 'BMW']"
      ]
     },
     "execution_count": 375,
     "metadata": {},
     "output_type": "execute_result"
    }
   ],
   "source": [
    "cars"
   ]
  },
  {
   "cell_type": "code",
   "execution_count": 377,
   "metadata": {},
   "outputs": [
    {
     "data": {
      "text/plain": [
       "['BMW', 'Ford', 'Volvo']"
      ]
     },
     "execution_count": 377,
     "metadata": {},
     "output_type": "execute_result"
    }
   ],
   "source": [
    "sorted(cars,reverse=False)"
   ]
  },
  {
   "cell_type": "code",
   "execution_count": 144,
   "metadata": {},
   "outputs": [
    {
     "data": {
      "text/plain": [
       "[1, 2, 3, 4, 5, 2, 3, 4, 5, 6]"
      ]
     },
     "execution_count": 144,
     "metadata": {},
     "output_type": "execute_result"
    }
   ],
   "source": [
    "a = [1,2,3,4,5]\n",
    "b = [2,3,4,5,6]\n",
    "\n",
    "a+b"
   ]
  },
  {
   "cell_type": "code",
   "execution_count": 4,
   "metadata": {},
   "outputs": [
    {
     "data": {
      "text/plain": [
       "[('Apple', 3), ('Pineapple', 2), ('Banana', 1)]"
      ]
     },
     "execution_count": 4,
     "metadata": {},
     "output_type": "execute_result"
    }
   ],
   "source": [
    "# Create Counts Of Items\n",
    "from collections import Counter\n",
    "# Create a counter of the fruits eaten today\n",
    "fruit_eaten = Counter(['Apple', 'Apple', 'Apple', 'Banana', 'Pear', 'Pineapple'])\n",
    "# View counter\n",
    "fruit_eaten\n",
    "\n",
    "# Update the count for 'Pineapple' (because you just ate an pineapple)\n",
    "fruit_eaten.update(['Pineapple'])\n",
    "# View the counter\n",
    "fruit_eaten\n",
    "\n",
    "# View the items with the top 3 counts\n",
    "fruit_eaten.most_common(3)"
   ]
  },
  {
   "cell_type": "markdown",
   "metadata": {},
   "source": [
    "#### Set"
   ]
  },
  {
   "cell_type": "code",
   "execution_count": 142,
   "metadata": {},
   "outputs": [
    {
     "data": {
      "text/plain": [
       "['BMW', 'Ford', 'Volvo']"
      ]
     },
     "execution_count": 142,
     "metadata": {},
     "output_type": "execute_result"
    }
   ],
   "source": [
    "# sort\n",
    "cars = set(cars)\n",
    "sorted(cars)"
   ]
  },
  {
   "cell_type": "markdown",
   "metadata": {},
   "source": [
    "#### DataFrame \n",
    "-  structure: https://chrisalbon.com/python/data_wrangling/pandas_data_structures/\n",
    "-  drop: https://chrisalbon.com/python/data_wrangling/pandas_dropping_column_and_rows/"
   ]
  },
  {
   "cell_type": "code",
   "execution_count": 41,
   "metadata": {},
   "outputs": [],
   "source": [
    "# create df, insert data from a lit\n",
    "import pandas as pd\n",
    "columns = ['name','year','reports']\n",
    "values_by_columns = [['Jason', 'Molly', 'Tina', 'Jake', 'Amy'],[2012, 2012, 2013, 2014, 2014], [4, 24, 31, 2, 3]]\n",
    "values_by_rows = list(zip(*values_by_columns))\n",
    "index = ['Cochice', 'Pima', 'Santa Cruz', 'Maricopa', 'Yuma']\n",
    "df = pd.DataFrame(columns = columns)\n",
    "\n",
    "\n",
    "for value in values_by_rows:\n",
    "    df.loc[len(df)] = value\n",
    "\n",
    "df.index = index"
   ]
  },
  {
   "cell_type": "code",
   "execution_count": 28,
   "metadata": {},
   "outputs": [],
   "source": [
    "# insert a row by index\n",
    "df.loc['April'] = ['Wang',2013,5]\n",
    "\n",
    "# insert a row by append function\n",
    "row = pd.Series({'year':2013,'name':'Zhu','reports':30},name='Maggie')\n",
    "df = df.append(row)\n"
   ]
  },
  {
   "cell_type": "code",
   "execution_count": 30,
   "metadata": {},
   "outputs": [],
   "source": [
    "# add new column (list)\n",
    "df['age'] = [20,31,40,31,25,11,6]\n",
    "\n",
    "# add a new column by insert function\n",
    "df.insert(0, 'dept', 'Data Analytics')"
   ]
  },
  {
   "cell_type": "code",
   "execution_count": null,
   "metadata": {},
   "outputs": [],
   "source": [
    "# Row Bind\n",
    "pd.concat([df1,df2])\n",
    "df1.append(df2) # make sure the structure and column names are same\n",
    "\n",
    "# Column Bind\n",
    "pd.concat([df1, df2], axis=1, ignore_index=True)"
   ]
  },
  {
   "cell_type": "code",
   "execution_count": 32,
   "metadata": {},
   "outputs": [
    {
     "data": {
      "text/html": [
       "<div>\n",
       "<style scoped>\n",
       "    .dataframe tbody tr th:only-of-type {\n",
       "        vertical-align: middle;\n",
       "    }\n",
       "\n",
       "    .dataframe tbody tr th {\n",
       "        vertical-align: top;\n",
       "    }\n",
       "\n",
       "    .dataframe thead th {\n",
       "        text-align: right;\n",
       "    }\n",
       "</style>\n",
       "<table border=\"1\" class=\"dataframe\">\n",
       "  <thead>\n",
       "    <tr style=\"text-align: right;\">\n",
       "      <th></th>\n",
       "      <th>dept</th>\n",
       "      <th>name</th>\n",
       "      <th>year</th>\n",
       "      <th>reports</th>\n",
       "      <th>age</th>\n",
       "    </tr>\n",
       "  </thead>\n",
       "  <tbody>\n",
       "    <tr>\n",
       "      <th>Cochice</th>\n",
       "      <td>Data Analytics</td>\n",
       "      <td>Jason</td>\n",
       "      <td>2012</td>\n",
       "      <td>4</td>\n",
       "      <td>20</td>\n",
       "    </tr>\n",
       "    <tr>\n",
       "      <th>Pima</th>\n",
       "      <td>Data Analytics</td>\n",
       "      <td>Molly</td>\n",
       "      <td>2012</td>\n",
       "      <td>24</td>\n",
       "      <td>31</td>\n",
       "    </tr>\n",
       "    <tr>\n",
       "      <th>Santa Cruz</th>\n",
       "      <td>Data Analytics</td>\n",
       "      <td>Tina</td>\n",
       "      <td>2013</td>\n",
       "      <td>31</td>\n",
       "      <td>40</td>\n",
       "    </tr>\n",
       "    <tr>\n",
       "      <th>Maricopa</th>\n",
       "      <td>Data Analytics</td>\n",
       "      <td>Jake</td>\n",
       "      <td>2014</td>\n",
       "      <td>2</td>\n",
       "      <td>31</td>\n",
       "    </tr>\n",
       "    <tr>\n",
       "      <th>Yuma</th>\n",
       "      <td>Data Analytics</td>\n",
       "      <td>Amy</td>\n",
       "      <td>2014</td>\n",
       "      <td>3</td>\n",
       "      <td>25</td>\n",
       "    </tr>\n",
       "    <tr>\n",
       "      <th>April</th>\n",
       "      <td>Data Analytics</td>\n",
       "      <td>Wang</td>\n",
       "      <td>2013</td>\n",
       "      <td>5</td>\n",
       "      <td>11</td>\n",
       "    </tr>\n",
       "    <tr>\n",
       "      <th>Maggie</th>\n",
       "      <td>Data Analytics</td>\n",
       "      <td>Zhu</td>\n",
       "      <td>2013</td>\n",
       "      <td>30</td>\n",
       "      <td>6</td>\n",
       "    </tr>\n",
       "  </tbody>\n",
       "</table>\n",
       "</div>"
      ],
      "text/plain": [
       "                      dept   name  year reports  age\n",
       "Cochice     Data Analytics  Jason  2012       4   20\n",
       "Pima        Data Analytics  Molly  2012      24   31\n",
       "Santa Cruz  Data Analytics   Tina  2013      31   40\n",
       "Maricopa    Data Analytics   Jake  2014       2   31\n",
       "Yuma        Data Analytics    Amy  2014       3   25\n",
       "April       Data Analytics   Wang  2013       5   11\n",
       "Maggie      Data Analytics    Zhu  2013      30    6"
      ]
     },
     "execution_count": 32,
     "metadata": {},
     "output_type": "execute_result"
    }
   ],
   "source": [
    "# find duplicate - not good ... only the second one will be selected as duplicates\n",
    "duplicates = df.duplicated(subset=['age'])\n",
    "\n",
    "\n",
    "# drop duplicate rows\n",
    "df.drop_duplicates()\n",
    "# drop duplicaate and keep last one\n",
    "df.drop_duplicates(keep='last')\n",
    "# drop duplicate by a column name\n",
    "df.drop_duplicates(['name'], keep='last')"
   ]
  },
  {
   "cell_type": "code",
   "execution_count": null,
   "metadata": {},
   "outputs": [],
   "source": [
    "# Find Nans in pd\n",
    "# List the NaN count for each column:\n",
    "df.isnull().sum()\n",
    "# Count the total number of NaNs present\n",
    "df.isnull().sum().sum()"
   ]
  },
  {
   "cell_type": "code",
   "execution_count": 34,
   "metadata": {},
   "outputs": [],
   "source": [
    "# set value base conditions\n",
    "import numpy as np\n",
    "df['performance'] = 'Not Bad'\n",
    "df.loc[df['reports'] >= 30, 'performance'] = 'Awesome!'\n",
    "\n",
    "# second method\n",
    "df['performance'] = np.where(df['reports']>=30, 'Awesome!', 'Not Bad')"
   ]
  },
  {
   "cell_type": "code",
   "execution_count": 36,
   "metadata": {},
   "outputs": [
    {
     "name": "stdout",
     "output_type": "stream",
     "text": [
      "index: Cochice | name: Jason | year: 2012\n",
      "index: Pima | name: Molly | year: 2012\n",
      "index: Santa Cruz | name: Tina | year: 2013\n",
      "index: Maricopa | name: Jake | year: 2014\n",
      "index: Yuma | name: Amy | year: 2014\n",
      "index: April | name: Wang | year: 2013\n",
      "index: Maggie | name: Zhu | year: 2013\n"
     ]
    }
   ],
   "source": [
    "# iterate rows and get valeus of a,b column\n",
    "for index, row in df.iterrows():\n",
    "    print(\"index: %s | name: %s | year: %s\" %(index, row['name'],row['year']))"
   ]
  },
  {
   "cell_type": "code",
   "execution_count": 37,
   "metadata": {},
   "outputs": [],
   "source": [
    "# group \n",
    "df_agg = df.groupby(['year'])['name'].count() # pd series \n",
    "df_agg_df = df.groupby(['year'])['name'].count().reset_index() # data frame"
   ]
  },
  {
   "cell_type": "code",
   "execution_count": 38,
   "metadata": {
    "scrolled": true
   },
   "outputs": [
    {
     "data": {
      "text/html": [
       "<div>\n",
       "<style scoped>\n",
       "    .dataframe tbody tr th:only-of-type {\n",
       "        vertical-align: middle;\n",
       "    }\n",
       "\n",
       "    .dataframe tbody tr th {\n",
       "        vertical-align: top;\n",
       "    }\n",
       "\n",
       "    .dataframe thead th {\n",
       "        text-align: right;\n",
       "    }\n",
       "</style>\n",
       "<table border=\"1\" class=\"dataframe\">\n",
       "  <thead>\n",
       "    <tr style=\"text-align: right;\">\n",
       "      <th></th>\n",
       "      <th>dept</th>\n",
       "      <th>name</th>\n",
       "      <th>year</th>\n",
       "      <th>reports</th>\n",
       "      <th>age</th>\n",
       "      <th>performance</th>\n",
       "    </tr>\n",
       "  </thead>\n",
       "  <tbody>\n",
       "    <tr>\n",
       "      <th>Cochice</th>\n",
       "      <td>Data Analytics</td>\n",
       "      <td>Jason</td>\n",
       "      <td>2012</td>\n",
       "      <td>4</td>\n",
       "      <td>20</td>\n",
       "      <td>Not Bad</td>\n",
       "    </tr>\n",
       "    <tr>\n",
       "      <th>Pima</th>\n",
       "      <td>Data Analytics</td>\n",
       "      <td>Molly</td>\n",
       "      <td>2012</td>\n",
       "      <td>24</td>\n",
       "      <td>31</td>\n",
       "      <td>Not Bad</td>\n",
       "    </tr>\n",
       "    <tr>\n",
       "      <th>Santa Cruz</th>\n",
       "      <td>Data Analytics</td>\n",
       "      <td>Tina</td>\n",
       "      <td>2013</td>\n",
       "      <td>31</td>\n",
       "      <td>40</td>\n",
       "      <td>Awesome!</td>\n",
       "    </tr>\n",
       "    <tr>\n",
       "      <th>Maricopa</th>\n",
       "      <td>Data Analytics</td>\n",
       "      <td>Jake</td>\n",
       "      <td>2014</td>\n",
       "      <td>2</td>\n",
       "      <td>31</td>\n",
       "      <td>Not Bad</td>\n",
       "    </tr>\n",
       "    <tr>\n",
       "      <th>Yuma</th>\n",
       "      <td>Data Analytics</td>\n",
       "      <td>Amy</td>\n",
       "      <td>2014</td>\n",
       "      <td>3</td>\n",
       "      <td>25</td>\n",
       "      <td>Not Bad</td>\n",
       "    </tr>\n",
       "    <tr>\n",
       "      <th>April</th>\n",
       "      <td>Data Analytics</td>\n",
       "      <td>Wang</td>\n",
       "      <td>2013</td>\n",
       "      <td>5</td>\n",
       "      <td>11</td>\n",
       "      <td>Not Bad</td>\n",
       "    </tr>\n",
       "    <tr>\n",
       "      <th>Maggie</th>\n",
       "      <td>Data Analytics</td>\n",
       "      <td>Zhu</td>\n",
       "      <td>2013</td>\n",
       "      <td>30</td>\n",
       "      <td>6</td>\n",
       "      <td>Awesome!</td>\n",
       "    </tr>\n",
       "  </tbody>\n",
       "</table>\n",
       "</div>"
      ],
      "text/plain": [
       "                      dept   name  year reports  age performance\n",
       "Cochice     Data Analytics  Jason  2012       4   20     Not Bad\n",
       "Pima        Data Analytics  Molly  2012      24   31     Not Bad\n",
       "Santa Cruz  Data Analytics   Tina  2013      31   40    Awesome!\n",
       "Maricopa    Data Analytics   Jake  2014       2   31     Not Bad\n",
       "Yuma        Data Analytics    Amy  2014       3   25     Not Bad\n",
       "April       Data Analytics   Wang  2013       5   11     Not Bad\n",
       "Maggie      Data Analytics    Zhu  2013      30    6    Awesome!"
      ]
     },
     "execution_count": 38,
     "metadata": {},
     "output_type": "execute_result"
    }
   ],
   "source": [
    "df"
   ]
  },
  {
   "cell_type": "code",
   "execution_count": 173,
   "metadata": {},
   "outputs": [
    {
     "name": "stdout",
     "output_type": "stream",
     "text": [
      "['name', 'year', 'reports', 'age', 'performance']\n",
      "['name', 'year', 'reports', 'age', 'performance']\n"
     ]
    }
   ],
   "source": [
    "# get column names\n",
    "# 1. use .columns.values\n",
    "print(list(df.columns.values))\n",
    "# 2. list df directly\n",
    "print(list(df))"
   ]
  },
  {
   "cell_type": "code",
   "execution_count": 176,
   "metadata": {},
   "outputs": [],
   "source": [
    "# rank \n",
    "df['reports_ranked']=df['reports'].rank(ascending=1,method='dense')"
   ]
  },
  {
   "cell_type": "code",
   "execution_count": 95,
   "metadata": {},
   "outputs": [
    {
     "data": {
      "text/html": [
       "<div>\n",
       "<style scoped>\n",
       "    .dataframe tbody tr th:only-of-type {\n",
       "        vertical-align: middle;\n",
       "    }\n",
       "\n",
       "    .dataframe tbody tr th {\n",
       "        vertical-align: top;\n",
       "    }\n",
       "\n",
       "    .dataframe thead th {\n",
       "        text-align: right;\n",
       "    }\n",
       "</style>\n",
       "<table border=\"1\" class=\"dataframe\">\n",
       "  <thead>\n",
       "    <tr style=\"text-align: right;\">\n",
       "      <th></th>\n",
       "      <th>year</th>\n",
       "      <th>name</th>\n",
       "      <th>reports</th>\n",
       "    </tr>\n",
       "  </thead>\n",
       "  <tbody>\n",
       "    <tr>\n",
       "      <th>1</th>\n",
       "      <td>2012</td>\n",
       "      <td>Molly</td>\n",
       "      <td>24</td>\n",
       "    </tr>\n",
       "    <tr>\n",
       "      <th>2</th>\n",
       "      <td>2013</td>\n",
       "      <td>Tina</td>\n",
       "      <td>31</td>\n",
       "    </tr>\n",
       "    <tr>\n",
       "      <th>5</th>\n",
       "      <td>2014</td>\n",
       "      <td>Amy</td>\n",
       "      <td>3</td>\n",
       "    </tr>\n",
       "  </tbody>\n",
       "</table>\n",
       "</div>"
      ],
      "text/plain": [
       "   year   name  reports\n",
       "1  2012  Molly       24\n",
       "2  2013   Tina       31\n",
       "5  2014    Amy        3"
      ]
     },
     "execution_count": 95,
     "metadata": {},
     "output_type": "execute_result"
    }
   ],
   "source": [
    "# group + sort + top n = the most reports in each year, like in year 2012, Molly has the most report: 24\n",
    "df_agg = df.groupby(['year','name'])['reports'].sum().reset_index()\n",
    "df_agg_sort = df_agg.sort_values(['year','reports'],ascending=[True,False])\n",
    "df_agg_sort.groupby('year').head(1)"
   ]
  },
  {
   "cell_type": "code",
   "execution_count": 96,
   "metadata": {
    "scrolled": true
   },
   "outputs": [
    {
     "data": {
      "text/plain": [
       "year  name \n",
       "2012  Jason    1\n",
       "      Molly    1\n",
       "2013  Tina     1\n",
       "      Wang     1\n",
       "      Zhu      1\n",
       "2014  Amy      1\n",
       "      Jake     1\n",
       "Name: name, dtype: int64"
      ]
     },
     "execution_count": 96,
     "metadata": {},
     "output_type": "execute_result"
    }
   ],
   "source": [
    "# group + value counts\n",
    "df.groupby('year')['name'].value_counts() # pd series"
   ]
  },
  {
   "cell_type": "code",
   "execution_count": 97,
   "metadata": {},
   "outputs": [
    {
     "data": {
      "text/html": [
       "<div>\n",
       "<style scoped>\n",
       "    .dataframe tbody tr th:only-of-type {\n",
       "        vertical-align: middle;\n",
       "    }\n",
       "\n",
       "    .dataframe tbody tr th {\n",
       "        vertical-align: top;\n",
       "    }\n",
       "\n",
       "    .dataframe thead th {\n",
       "        text-align: right;\n",
       "    }\n",
       "</style>\n",
       "<table border=\"1\" class=\"dataframe\">\n",
       "  <thead>\n",
       "    <tr style=\"text-align: right;\">\n",
       "      <th>name</th>\n",
       "      <th>Amy</th>\n",
       "      <th>Jake</th>\n",
       "      <th>Jason</th>\n",
       "      <th>Molly</th>\n",
       "      <th>Tina</th>\n",
       "      <th>Wang</th>\n",
       "      <th>Zhu</th>\n",
       "    </tr>\n",
       "    <tr>\n",
       "      <th>year</th>\n",
       "      <th></th>\n",
       "      <th></th>\n",
       "      <th></th>\n",
       "      <th></th>\n",
       "      <th></th>\n",
       "      <th></th>\n",
       "      <th></th>\n",
       "    </tr>\n",
       "  </thead>\n",
       "  <tbody>\n",
       "    <tr>\n",
       "      <th>2012</th>\n",
       "      <td>Nan</td>\n",
       "      <td>Nan</td>\n",
       "      <td>1</td>\n",
       "      <td>1</td>\n",
       "      <td>Nan</td>\n",
       "      <td>Nan</td>\n",
       "      <td>Nan</td>\n",
       "    </tr>\n",
       "    <tr>\n",
       "      <th>2013</th>\n",
       "      <td>Nan</td>\n",
       "      <td>Nan</td>\n",
       "      <td>Nan</td>\n",
       "      <td>Nan</td>\n",
       "      <td>1</td>\n",
       "      <td>1</td>\n",
       "      <td>1</td>\n",
       "    </tr>\n",
       "    <tr>\n",
       "      <th>2014</th>\n",
       "      <td>1</td>\n",
       "      <td>1</td>\n",
       "      <td>Nan</td>\n",
       "      <td>Nan</td>\n",
       "      <td>Nan</td>\n",
       "      <td>Nan</td>\n",
       "      <td>Nan</td>\n",
       "    </tr>\n",
       "  </tbody>\n",
       "</table>\n",
       "</div>"
      ],
      "text/plain": [
       "name  Amy Jake Jason Molly Tina Wang  Zhu\n",
       "year                                     \n",
       "2012  Nan  Nan     1     1  Nan  Nan  Nan\n",
       "2013  Nan  Nan   Nan   Nan    1    1    1\n",
       "2014    1    1   Nan   Nan  Nan  Nan  Nan"
      ]
     },
     "execution_count": 97,
     "metadata": {},
     "output_type": "execute_result"
    }
   ],
   "source": [
    "# unstack: Unstack switches the rows to columns to get the activity counts as features.\n",
    "df.groupby('year')['name'].value_counts().unstack().fillna('Nan')"
   ]
  },
  {
   "cell_type": "code",
   "execution_count": 100,
   "metadata": {},
   "outputs": [],
   "source": [
    "# more example about unstack and stack: \n",
    "# http://www.datasciencemadesimple.com/reshape-using-stack-unstack-function-pandas-python/\n",
    "import pandas as pd\n",
    "import numpy as np\n",
    "\n",
    "header = pd.MultiIndex.from_product([['Semester1','Semester2'],['Maths','Science']])\n",
    "d=([[12,45,67,56],[78,89,45,67],[45,67,89,90],[67,44,56,55]])\n",
    " \n",
    "df = pd.DataFrame(d,index=['Alisa','Bobby','Cathrine','Jack'],columns=header)\n",
    "df\n",
    "\n",
    "stacked_df=df.stack()\n",
    "unstacked_df = stacked_df.unstack()\n",
    "\n",
    "#stack at level 1\n",
    "stacked_df_lvl=df.stack(level=0)\n",
    "unstacked_df1 = stacked_df_lvl.unstack()"
   ]
  },
  {
   "cell_type": "code",
   "execution_count": 115,
   "metadata": {},
   "outputs": [
    {
     "name": "stderr",
     "output_type": "stream",
     "text": [
      "/usr/local/lib/python3.6/site-packages/ipykernel_launcher.py:8: UserWarning: Boolean Series key will be reindexed to match DataFrame index.\n",
      "  \n"
     ]
    }
   ],
   "source": [
    "# df drop row by the index name \n",
    "df1 = df.drop(['Pima'], inplace = False) # inplace = true means we are changing the original df\n",
    "\n",
    "# Drop a row by row number - Santa Cruz\n",
    "df1.drop(df1.index[1], inplace = True) # or drop a range df.index[[1,2]]\n",
    "\n",
    "# drop row if it contains a certian value, tricky way\n",
    "df1 = df1[df.name != 'Jake']\n",
    "\n",
    "# df drop column by column name\n",
    "df1.drop('reports',axis=1, inplace = True)"
   ]
  },
  {
   "cell_type": "code",
   "execution_count": 127,
   "metadata": {},
   "outputs": [],
   "source": [
    "# df filter based on two columns value and select report column - return a series\n",
    "array_jason_2012_report = df.loc[(df['name']=='Jason') & (df['year']==2012)]['reports'].values # return a array\n",
    "value_jason_2012_report = df.loc[(df['name']=='Jason') & (df['year']==2012)]['reports'][0] # return a number\n",
    "\n",
    "# df filter based on a list of value of one column -return a pd\n",
    "df[df['year'].isin([2012,2013])]"
   ]
  },
  {
   "cell_type": "code",
   "execution_count": 40,
   "metadata": {},
   "outputs": [
    {
     "data": {
      "text/html": [
       "<div>\n",
       "<style scoped>\n",
       "    .dataframe tbody tr th:only-of-type {\n",
       "        vertical-align: middle;\n",
       "    }\n",
       "\n",
       "    .dataframe tbody tr th {\n",
       "        vertical-align: top;\n",
       "    }\n",
       "\n",
       "    .dataframe thead th {\n",
       "        text-align: right;\n",
       "    }\n",
       "</style>\n",
       "<table border=\"1\" class=\"dataframe\">\n",
       "  <thead>\n",
       "    <tr style=\"text-align: right;\">\n",
       "      <th></th>\n",
       "      <th>name</th>\n",
       "      <th>year</th>\n",
       "    </tr>\n",
       "  </thead>\n",
       "  <tbody>\n",
       "    <tr>\n",
       "      <th>Pima</th>\n",
       "      <td>Molly</td>\n",
       "      <td>2012</td>\n",
       "    </tr>\n",
       "    <tr>\n",
       "      <th>Yuma</th>\n",
       "      <td>Amy</td>\n",
       "      <td>2014</td>\n",
       "    </tr>\n",
       "  </tbody>\n",
       "</table>\n",
       "</div>"
      ],
      "text/plain": [
       "       name  year\n",
       "Pima  Molly  2012\n",
       "Yuma    Amy  2014"
      ]
     },
     "execution_count": 40,
     "metadata": {},
     "output_type": "execute_result"
    }
   ],
   "source": [
    "# filter multiple rows and columns by index\n",
    "df.iloc[0:2,[1,2]]\n",
    "# filter multiple rows and columns by name \n",
    "df.loc[['Pima','Yuma'],['name','year']] \n",
    "\n",
    "\n",
    "# .ix[] is used to index a dataframe by both name and position\n",
    "df.ix[0:2,['name','year']] \n",
    "# view a value - View the value based on row and column\n",
    "df.ix[3,'name']\n",
    "df.name.ix[3] #You can also select the column first with dot notation, then the row index, which looks a little cleaner."
   ]
  },
  {
   "cell_type": "code",
   "execution_count": 201,
   "metadata": {},
   "outputs": [
    {
     "data": {
      "text/plain": [
       "MultiIndex(levels=[[2012, 2013, 2014], ['Awesome!', 'Not Bad']],\n",
       "           labels=[[0, 0, 1, 2, 2, 1, 1], [1, 1, 0, 1, 1, 1, 0]],\n",
       "           names=['year', 'performance'])"
      ]
     },
     "execution_count": 201,
     "metadata": {},
     "output_type": "execute_result"
    }
   ],
   "source": [
    "# Hierachical Index\n",
    "df1 = df.set_index(['year','performance'])\n",
    "df1.swaplevel('performance','year')\n",
    "df1.index"
   ]
  },
  {
   "cell_type": "code",
   "execution_count": 206,
   "metadata": {},
   "outputs": [],
   "source": [
    "# Reshape wide to long in pandas python with melt() function - http://www.datasciencemadesimple.com/reshape-wide-long-pandas-python-melt-function/\n",
    "df2=pd.melt(df,id_vars=['name', 'year','age','performance'],var_name='metrics', value_name='values')"
   ]
  },
  {
   "cell_type": "code",
   "execution_count": 208,
   "metadata": {},
   "outputs": [
    {
     "data": {
      "text/html": [
       "<div>\n",
       "<style scoped>\n",
       "    .dataframe tbody tr th:only-of-type {\n",
       "        vertical-align: middle;\n",
       "    }\n",
       "\n",
       "    .dataframe tbody tr th {\n",
       "        vertical-align: top;\n",
       "    }\n",
       "\n",
       "    .dataframe thead th {\n",
       "        text-align: right;\n",
       "    }\n",
       "</style>\n",
       "<table border=\"1\" class=\"dataframe\">\n",
       "  <thead>\n",
       "    <tr style=\"text-align: right;\">\n",
       "      <th></th>\n",
       "      <th>name</th>\n",
       "      <th>year</th>\n",
       "      <th>age</th>\n",
       "      <th>performance</th>\n",
       "      <th>metrics</th>\n",
       "      <th>values</th>\n",
       "    </tr>\n",
       "  </thead>\n",
       "  <tbody>\n",
       "    <tr>\n",
       "      <th>0</th>\n",
       "      <td>Jason</td>\n",
       "      <td>2012</td>\n",
       "      <td>20</td>\n",
       "      <td>Not Bad</td>\n",
       "      <td>reports</td>\n",
       "      <td>4</td>\n",
       "    </tr>\n",
       "    <tr>\n",
       "      <th>1</th>\n",
       "      <td>Molly</td>\n",
       "      <td>2012</td>\n",
       "      <td>31</td>\n",
       "      <td>Not Bad</td>\n",
       "      <td>reports</td>\n",
       "      <td>24</td>\n",
       "    </tr>\n",
       "  </tbody>\n",
       "</table>\n",
       "</div>"
      ],
      "text/plain": [
       "    name  year  age performance  metrics values\n",
       "0  Jason  2012   20     Not Bad  reports      4\n",
       "1  Molly  2012   31     Not Bad  reports     24"
      ]
     },
     "execution_count": 208,
     "metadata": {},
     "output_type": "execute_result"
    }
   ],
   "source": [
    "df2.head(2)"
   ]
  },
  {
   "cell_type": "code",
   "execution_count": 326,
   "metadata": {},
   "outputs": [
    {
     "name": "stdout",
     "output_type": "stream",
     "text": [
      "Missing values per column:\n",
      "name       0\n",
      "year       0\n",
      "reports    0\n",
      "dtype: int64\n",
      "\n",
      "Missing values per row:\n",
      "Cochice       0\n",
      "Pima          0\n",
      "Santa Cruz    0\n",
      "Maricopa      0\n",
      "Yuma          0\n",
      "dtype: int64\n"
     ]
    }
   ],
   "source": [
    "# pd, apply function\n",
    "def num_missing(x):\n",
    "    return sum(x.isnull())\n",
    "\n",
    "#Applying per column:\n",
    "print(\"Missing values per column:\")\n",
    "print(df.apply(num_missing, axis=0)) #axis=0 defines that function is to be applied on each column\n",
    "\n",
    "#Applying per row:\n",
    "print(\"\\nMissing values per row:\")\n",
    "print(df.apply(num_missing, axis=1).head()) #axis=1 defines that function is to be applied on each row"
   ]
  },
  {
   "cell_type": "code",
   "execution_count": null,
   "metadata": {},
   "outputs": [],
   "source": [
    "# apply functions by group in pd\n",
    "# Create an example dataframe\n",
    "data = {'Platoon': ['A','A','A','A','A','A','B','B','B','B','B','C','C','C','C','C'],\n",
    "       'Casualties': [1,4,5,7,5,5,6,1,4,5,6,7,4,6,4,6]}\n",
    "df = pd.DataFrame(data)\n",
    "df.groupby('Platoon')['Casualties'].apply(lambda x:x.rolling(center=False,window=2).mean())"
   ]
  },
  {
   "cell_type": "code",
   "execution_count": null,
   "metadata": {},
   "outputs": [],
   "source": [
    "# filter by"
   ]
  },
  {
   "cell_type": "code",
   "execution_count": 135,
   "metadata": {},
   "outputs": [],
   "source": [
    "# pivot table\n",
    "df = pd.DataFrame({\"A\": [\"foo\", \"foo\", \"foo\", \"foo\", \"foo\",\n",
    "                         \"bar\", \"bar\", \"bar\", \"bar\"],\n",
    "                   \"B\": [\"one\", \"one\", \"one\", \"two\", \"two\",\n",
    "                         \"one\", \"one\", \"two\", \"two\"],\n",
    "                   \"C\": [\"small\", \"large\", \"large\", \"small\",\n",
    "                         \"small\", \"large\", \"small\", \"small\",\n",
    "                         \"large\"],\n",
    "                   \"D\": [1, 2, 2, 3, 3, 4, 5, 6, 7]})\n",
    "\n",
    "pivot_table = pd.pivot_table(df, values='D', index=['A', 'B'], columns=['C'], aggfunc=np.sum)"
   ]
  },
  {
   "cell_type": "code",
   "execution_count": 42,
   "metadata": {},
   "outputs": [
    {
     "data": {
      "text/html": [
       "<div>\n",
       "<style scoped>\n",
       "    .dataframe tbody tr th:only-of-type {\n",
       "        vertical-align: middle;\n",
       "    }\n",
       "\n",
       "    .dataframe tbody tr th {\n",
       "        vertical-align: top;\n",
       "    }\n",
       "\n",
       "    .dataframe thead th {\n",
       "        text-align: right;\n",
       "    }\n",
       "</style>\n",
       "<table border=\"1\" class=\"dataframe\">\n",
       "  <thead>\n",
       "    <tr style=\"text-align: right;\">\n",
       "      <th></th>\n",
       "      <th>A</th>\n",
       "      <th>B</th>\n",
       "      <th>C</th>\n",
       "      <th>D</th>\n",
       "    </tr>\n",
       "  </thead>\n",
       "  <tbody>\n",
       "    <tr>\n",
       "      <th>0</th>\n",
       "      <td>0.112288</td>\n",
       "      <td>0.852736</td>\n",
       "      <td>0.665070</td>\n",
       "      <td>0.553730</td>\n",
       "    </tr>\n",
       "    <tr>\n",
       "      <th>1</th>\n",
       "      <td>0.677584</td>\n",
       "      <td>0.046569</td>\n",
       "      <td>0.557092</td>\n",
       "      <td>0.669515</td>\n",
       "    </tr>\n",
       "  </tbody>\n",
       "</table>\n",
       "</div>"
      ],
      "text/plain": [
       "          A         B         C         D\n",
       "0  0.112288  0.852736  0.665070  0.553730\n",
       "1  0.677584  0.046569  0.557092  0.669515"
      ]
     },
     "execution_count": 42,
     "metadata": {},
     "output_type": "execute_result"
    }
   ],
   "source": [
    "# pd, iterate\n",
    "import numpy as np\n",
    "import pandas as pd\n",
    "\n",
    "df = pd.DataFrame(np.random.rand(2,4),columns=list('ABCD'))\n",
    "\n",
    "df.head()"
   ]
  },
  {
   "cell_type": "code",
   "execution_count": 43,
   "metadata": {
    "scrolled": false
   },
   "outputs": [
    {
     "name": "stdout",
     "output_type": "stream",
     "text": [
      "Pandas(Index=0, A=0.11228816669415553, B=0.8527361252730973, C=0.6650702730884505, D=0.5537301019492316)\n",
      "Pandas(Index=1, A=0.6775840578217189, B=0.046569169314637615, C=0.5570916789512356, D=0.6695153971424888)\n",
      "\n",
      "\n",
      "A    0.112288\n",
      "B    0.852736\n",
      "C    0.665070\n",
      "D    0.553730\n",
      "Name: 0, dtype: float64 0\n",
      "A    0.677584\n",
      "B    0.046569\n",
      "C    0.557092\n",
      "D    0.669515\n",
      "Name: 1, dtype: float64 1\n",
      "\n",
      "\n",
      "0    0.112288\n",
      "1    0.677584\n",
      "Name: A, dtype: float64\n",
      "0    0.852736\n",
      "1    0.046569\n",
      "Name: B, dtype: float64\n",
      "0    0.665070\n",
      "1    0.557092\n",
      "Name: C, dtype: float64\n",
      "0    0.553730\n",
      "1    0.669515\n",
      "Name: D, dtype: float64\n"
     ]
    }
   ],
   "source": [
    "# 1. iterate over DataFrame rows as namedtuples, with index value as first element of the tuple.\n",
    "for row in df.itertuples(): \n",
    "    print(row)\n",
    "print('\\n')\n",
    "# 2. iterate over DataFrame rows as (index, Series) pairs.\n",
    "for index, row in df.iterrows():\n",
    "    print(row, index)\n",
    "    #print(index, row.A, row.B)\n",
    "print('\\n')\n",
    "# 3. iterator over (column name, Series) pairs.\n",
    "for index, column in df.iteritems():\n",
    "    print(column)"
   ]
  },
  {
   "cell_type": "code",
   "execution_count": null,
   "metadata": {},
   "outputs": [],
   "source": [
    "# value_counts(normalize=True) * 100 -> percent"
   ]
  },
  {
   "cell_type": "code",
   "execution_count": 44,
   "metadata": {},
   "outputs": [
    {
     "data": {
      "text/html": [
       "<div>\n",
       "<style scoped>\n",
       "    .dataframe tbody tr th:only-of-type {\n",
       "        vertical-align: middle;\n",
       "    }\n",
       "\n",
       "    .dataframe tbody tr th {\n",
       "        vertical-align: top;\n",
       "    }\n",
       "\n",
       "    .dataframe thead th {\n",
       "        text-align: right;\n",
       "    }\n",
       "</style>\n",
       "<table border=\"1\" class=\"dataframe\">\n",
       "  <thead>\n",
       "    <tr style=\"text-align: right;\">\n",
       "      <th></th>\n",
       "      <th>a</th>\n",
       "      <th>b</th>\n",
       "    </tr>\n",
       "  </thead>\n",
       "  <tbody>\n",
       "    <tr>\n",
       "      <th>3</th>\n",
       "      <td>-0.586308</td>\n",
       "      <td>-0.714383</td>\n",
       "    </tr>\n",
       "    <tr>\n",
       "      <th>4</th>\n",
       "      <td>0.503497</td>\n",
       "      <td>0.244219</td>\n",
       "    </tr>\n",
       "    <tr>\n",
       "      <th>5</th>\n",
       "      <td>0.158147</td>\n",
       "      <td>-0.263069</td>\n",
       "    </tr>\n",
       "    <tr>\n",
       "      <th>6</th>\n",
       "      <td>0.060142</td>\n",
       "      <td>-1.283625</td>\n",
       "    </tr>\n",
       "    <tr>\n",
       "      <th>7</th>\n",
       "      <td>0.651882</td>\n",
       "      <td>0.182224</td>\n",
       "    </tr>\n",
       "    <tr>\n",
       "      <th>8</th>\n",
       "      <td>0.041512</td>\n",
       "      <td>-0.276535</td>\n",
       "    </tr>\n",
       "  </tbody>\n",
       "</table>\n",
       "</div>"
      ],
      "text/plain": [
       "          a         b\n",
       "3 -0.586308 -0.714383\n",
       "4  0.503497  0.244219\n",
       "5  0.158147 -0.263069\n",
       "6  0.060142 -1.283625\n",
       "7  0.651882  0.182224\n",
       "8  0.041512 -0.276535"
      ]
     },
     "execution_count": 44,
     "metadata": {},
     "output_type": "execute_result"
    }
   ],
   "source": [
    "# query: query the columns of a frame with a boolean expression.\n",
    "from numpy.random import randn\n",
    "from pandas import DataFrame\n",
    "df = DataFrame(randn(10, 2), columns=list('ab'))\n",
    "df.query('a > b') # equal to df[df.a > df.b]"
   ]
  },
  {
   "cell_type": "code",
   "execution_count": 45,
   "metadata": {},
   "outputs": [
    {
     "name": "stdout",
     "output_type": "stream",
     "text": [
      "4629596816\n",
      "4629596816\n",
      "4629596984\n",
      "4629597432\n",
      "4629597544\n",
      "4629596816\n"
     ]
    }
   ],
   "source": [
    "# difference between assign and .copy()\n",
    "df1 = pd.DataFrame([1,2,3,4,5])\n",
    "print(id(df1))\n",
    "\n",
    "df2 = df1\n",
    "print(id(df2)) # Same id as df1\n",
    "\n",
    "df3 = df1.copy()\n",
    "print(id(df3)) # New object, new id.\n",
    "\n",
    "df4 = df1.copy(deep=False)\n",
    "print(id(df4)) # New object, new id.\n",
    "\n",
    "df1 = pd.DataFrame([9, 9, 9])\n",
    "print(id(df1)) # New object created and bound to name 'df1'.\n",
    "\n",
    "print(id(df2))  # Old object's id not impacted."
   ]
  },
  {
   "cell_type": "code",
   "execution_count": null,
   "metadata": {},
   "outputs": [],
   "source": [
    "# pd.to_numeric vs np.float64\n",
    "# To convert data we can use .astype() method on a series. \n",
    "# Also keep in mind the ‘category’ type — it reduces size of a dataframe and makes computations faster. \n",
    "# We can convert to any value that can be used as category — days of the week, gender, continent abbreviations — depends on a context.\n",
    "\n",
    "# errors : {‘ignore’, ‘raise’, ‘coerce’}, default ‘raise’\n",
    "         # If ‘raise’, then invalid parsing will raise an exception\n",
    "         # If ‘coerce’, then invalid parsing will be set as NaN\n",
    "         # If ‘ignore’, then invalid parsing will return the input\n",
    "\n",
    "\n",
    "# convert If you already have numeric dtypes (int8|16|32|64,float64,boolean) you can convert it to another \"numeric\" dtype using Pandas .astype() method.\n",
    "df.a = df['a'].astype(float)\n",
    "# convert object dytpes to numberic\n",
    "df.b = pd.to_numeric(df['b'], errors='coerce')"
   ]
  },
  {
   "cell_type": "code",
   "execution_count": 47,
   "metadata": {
    "scrolled": true
   },
   "outputs": [
    {
     "data": {
      "text/html": [
       "<div>\n",
       "<style scoped>\n",
       "    .dataframe tbody tr th:only-of-type {\n",
       "        vertical-align: middle;\n",
       "    }\n",
       "\n",
       "    .dataframe tbody tr th {\n",
       "        vertical-align: top;\n",
       "    }\n",
       "\n",
       "    .dataframe thead th {\n",
       "        text-align: right;\n",
       "    }\n",
       "</style>\n",
       "<table border=\"1\" class=\"dataframe\">\n",
       "  <thead>\n",
       "    <tr style=\"text-align: right;\">\n",
       "      <th></th>\n",
       "      <th>a</th>\n",
       "      <th>b</th>\n",
       "    </tr>\n",
       "  </thead>\n",
       "  <tbody>\n",
       "    <tr>\n",
       "      <th>0</th>\n",
       "      <td>-0.476457</td>\n",
       "      <td>1.023886</td>\n",
       "    </tr>\n",
       "    <tr>\n",
       "      <th>1</th>\n",
       "      <td>-2.418843</td>\n",
       "      <td>0.152334</td>\n",
       "    </tr>\n",
       "    <tr>\n",
       "      <th>2</th>\n",
       "      <td>-0.975074</td>\n",
       "      <td>0.337719</td>\n",
       "    </tr>\n",
       "    <tr>\n",
       "      <th>3</th>\n",
       "      <td>-0.586308</td>\n",
       "      <td>-0.714383</td>\n",
       "    </tr>\n",
       "    <tr>\n",
       "      <th>4</th>\n",
       "      <td>0.503497</td>\n",
       "      <td>0.244219</td>\n",
       "    </tr>\n",
       "    <tr>\n",
       "      <th>5</th>\n",
       "      <td>0.158147</td>\n",
       "      <td>-0.263069</td>\n",
       "    </tr>\n",
       "    <tr>\n",
       "      <th>6</th>\n",
       "      <td>0.060142</td>\n",
       "      <td>-1.283625</td>\n",
       "    </tr>\n",
       "    <tr>\n",
       "      <th>7</th>\n",
       "      <td>0.651882</td>\n",
       "      <td>0.182224</td>\n",
       "    </tr>\n",
       "    <tr>\n",
       "      <th>8</th>\n",
       "      <td>0.041512</td>\n",
       "      <td>-0.276535</td>\n",
       "    </tr>\n",
       "    <tr>\n",
       "      <th>9</th>\n",
       "      <td>-1.913913</td>\n",
       "      <td>1.434493</td>\n",
       "    </tr>\n",
       "  </tbody>\n",
       "</table>\n",
       "</div>"
      ],
      "text/plain": [
       "          a         b\n",
       "0 -0.476457  1.023886\n",
       "1 -2.418843  0.152334\n",
       "2 -0.975074  0.337719\n",
       "3 -0.586308 -0.714383\n",
       "4  0.503497  0.244219\n",
       "5  0.158147 -0.263069\n",
       "6  0.060142 -1.283625\n",
       "7  0.651882  0.182224\n",
       "8  0.041512 -0.276535\n",
       "9 -1.913913  1.434493"
      ]
     },
     "execution_count": 47,
     "metadata": {},
     "output_type": "execute_result"
    }
   ],
   "source": [
    "df"
   ]
  },
  {
   "cell_type": "code",
   "execution_count": 50,
   "metadata": {},
   "outputs": [],
   "source": [
    "# create bin using cut() function\n",
    "bins = [-3, -1, 0, 1, 2]\n",
    "names = ['range1', 'range2', 'range3', 'range4']\n",
    "\n",
    "df['bin'] = pd.cut(df.a, bins, labels=names)"
   ]
  },
  {
   "cell_type": "markdown",
   "metadata": {},
   "source": [
    "merge and join\n",
    "- join \n",
    "- merge\n",
    "    - merged = pd.merge(left=df1, right=df2, on=None, left_on='col1', right_on='col2')"
   ]
  },
  {
   "cell_type": "markdown",
   "metadata": {},
   "source": [
    "#### Numpy"
   ]
  },
  {
   "cell_type": "code",
   "execution_count": 81,
   "metadata": {},
   "outputs": [],
   "source": [
    "my_data = [1,2,3,4,5]\n",
    "my_data = np.array(my_data, dtype=np.float32)"
   ]
  },
  {
   "cell_type": "code",
   "execution_count": 90,
   "metadata": {},
   "outputs": [
    {
     "data": {
      "text/plain": [
       "array([5., 4., 3., 2., 1.], dtype=float32)"
      ]
     },
     "execution_count": 90,
     "metadata": {},
     "output_type": "execute_result"
    }
   ],
   "source": [
    "# sort numpy narray\n",
    "np.sort(my_data)\n",
    "np.sort(my_data)[::-1]"
   ]
  },
  {
   "cell_type": "markdown",
   "metadata": {},
   "source": [
    "#### Series"
   ]
  },
  {
   "cell_type": "code",
   "execution_count": 37,
   "metadata": {},
   "outputs": [],
   "source": [
    "# create a series\n",
    "import pandas as pd\n",
    "import numpy as np\n",
    "data = np.array(['a','b','c','d'])\n",
    "s = pd.Series(data,index=[100,101,102,103])"
   ]
  },
  {
   "cell_type": "code",
   "execution_count": 38,
   "metadata": {},
   "outputs": [
    {
     "name": "stdout",
     "output_type": "stream",
     "text": [
      "a\n",
      "100    a\n",
      "101    b\n",
      "102    c\n",
      "dtype: object\n"
     ]
    }
   ],
   "source": [
    "# access data\n",
    "print(s[100]) # with index lable\n",
    "print(s[:3]) # with slice"
   ]
  },
  {
   "cell_type": "code",
   "execution_count": 13,
   "metadata": {
    "scrolled": true
   },
   "outputs": [
    {
     "name": "stdout",
     "output_type": "stream",
     "text": [
      "100 a\n",
      "101 b\n",
      "102 c\n",
      "103 d\n"
     ]
    }
   ],
   "source": [
    "# series iterate to get the index and value\n",
    "for i, v in s.items():\n",
    "    print(i,v)"
   ]
  },
  {
   "cell_type": "code",
   "execution_count": 21,
   "metadata": {},
   "outputs": [
    {
     "data": {
      "text/plain": [
       "{0: 1, 1: 2, 2: 3, 3: 4}"
      ]
     },
     "execution_count": 21,
     "metadata": {},
     "output_type": "execute_result"
    }
   ],
   "source": [
    "# series to dict\n",
    "s = pd.Series([1, 2, 3, 4])\n",
    "s.to_dict()\n",
    "{0: 1, 1: 2, 2: 3, 3: 4}"
   ]
  },
  {
   "cell_type": "code",
   "execution_count": null,
   "metadata": {},
   "outputs": [],
   "source": [
    "# create series from dict\n",
    "data = {'a' : 0., 'b' : 1., 'c' : 2.}\n",
    "s = pd.Series(data)"
   ]
  },
  {
   "cell_type": "code",
   "execution_count": 1,
   "metadata": {},
   "outputs": [
    {
     "name": "stdout",
     "output_type": "stream",
     "text": [
      "[6, 3, 4, 6] [0, 1, 2, 3]\n"
     ]
    }
   ],
   "source": [
    "# series to Value and Index (Arrary) to List\n",
    "import pandas as pd\n",
    "s= pd.Series([6,3,4,6])\n",
    "print(s.values.tolist(),s.index.values.tolist())"
   ]
  },
  {
   "cell_type": "code",
   "execution_count": null,
   "metadata": {},
   "outputs": [],
   "source": [
    "# sort: same as pd .sort_values(ascending=True)"
   ]
  },
  {
   "cell_type": "markdown",
   "metadata": {},
   "source": [
    "#### Filter Rows\n",
    "-  https://stackoverflow.com/questions/15325182/how-to-filter-rows-in-pandas-by-regex"
   ]
  },
  {
   "cell_type": "markdown",
   "metadata": {},
   "source": [
    "#### Write CSV"
   ]
  },
  {
   "cell_type": "code",
   "execution_count": 48,
   "metadata": {},
   "outputs": [],
   "source": [
    "import csv\n",
    "final = [{'Name':'A','Hour':0,'Time':120},{'Name':'A','Hour':1,'Time':219}]\n",
    "\n",
    "with open('/Users/mwang/Documents/Mine/output.csv', 'w') as output_file:\n",
    "    dict_writer = csv.DictWriter(output_file, keys, delimiter=',')\n",
    "    dict_writer.writeheader()\n",
    "    dict_writer.writerows(final)  "
   ]
  },
  {
   "cell_type": "code",
   "execution_count": 49,
   "metadata": {},
   "outputs": [],
   "source": [
    "import csv\n",
    "keys = ['Name','Hour','Time']\n",
    "final2 = [['B', 0, 110],['C', 1, 130]]\n",
    "\n",
    "with open('/Users/mwang/Documents/Mine/output2.csv','w') as f:\n",
    "    list_writer = csv.writer(f,delimiter=',')\n",
    "    list_writer.writerow(keys) # write first column name\n",
    "    for row in final2:\n",
    "        list_writer.writerow(row) # write each row"
   ]
  },
  {
   "cell_type": "markdown",
   "metadata": {},
   "source": [
    "#### Write TSV"
   ]
  },
  {
   "cell_type": "code",
   "execution_count": 27,
   "metadata": {},
   "outputs": [],
   "source": [
    "import csv\n",
    "keys = ['Name','Hour','Time']\n",
    "final = [{'Name':'A','Hour':0,'Time':120},{'Name':'A','Hour':1,'Time':219}]\n",
    "with open('/Users/mwang/Documents/Mine/output.tsv', 'w') as output_file:\n",
    "    dict_writer = csv.DictWriter(output_file, keys, delimiter='\\t')\n",
    "    dict_writer.writeheader()\n",
    "    dict_writer.writerows(final)  "
   ]
  },
  {
   "cell_type": "markdown",
   "metadata": {},
   "source": [
    "#### Dict"
   ]
  },
  {
   "cell_type": "code",
   "execution_count": 20,
   "metadata": {},
   "outputs": [
    {
     "name": "stdout",
     "output_type": "stream",
     "text": [
      "defaultdict(<class 'list'>, {1: [2, 6], 3: [4, 7], 5: [0, 'Nan']})\n"
     ]
    }
   ],
   "source": [
    "from collections import defaultdict\n",
    "d1 = {1: 2, 3: 4, 5: 0}\n",
    "d2 = {1: 6, 3: 7, 4: 8}\n",
    "\n",
    "\n",
    "# join the two dicts based on the same keys\n",
    "# create new dict\n",
    "dd = defaultdict(list)\n",
    "# 1: all join\n",
    "for d in (d1, d2): # you can list as many input dicts as you want here\n",
    "    for key, value in d.items():\n",
    "        dd[key].append(value)\n",
    "\n",
    "        \n",
    "        \n",
    "# create new dict\n",
    "dd = defaultdict(list)\n",
    "# 2: left join\n",
    "for k1,value in d1.items():\n",
    "    dd[k1].append(value)\n",
    "    if k1 in d2.keys():\n",
    "        dd[k1].append(d2[k1])\n",
    "    else:\n",
    "        dd[k1].append('Nan')\n",
    "\n",
    "print(dd)"
   ]
  },
  {
   "cell_type": "code",
   "execution_count": 2,
   "metadata": {},
   "outputs": [
    {
     "data": {
      "text/html": [
       "<div>\n",
       "<style scoped>\n",
       "    .dataframe tbody tr th:only-of-type {\n",
       "        vertical-align: middle;\n",
       "    }\n",
       "\n",
       "    .dataframe tbody tr th {\n",
       "        vertical-align: top;\n",
       "    }\n",
       "\n",
       "    .dataframe thead th {\n",
       "        text-align: right;\n",
       "    }\n",
       "</style>\n",
       "<table border=\"1\" class=\"dataframe\">\n",
       "  <thead>\n",
       "    <tr style=\"text-align: right;\">\n",
       "      <th></th>\n",
       "      <th>approved_by</th>\n",
       "      <th>archived</th>\n",
       "      <th>author</th>\n",
       "      <th>controversiality</th>\n",
       "      <th>user_reports</th>\n",
       "    </tr>\n",
       "  </thead>\n",
       "  <tbody>\n",
       "    <tr>\n",
       "      <th>0</th>\n",
       "      <td>None</td>\n",
       "      <td>False</td>\n",
       "      <td>des-tal</td>\n",
       "      <td>0</td>\n",
       "      <td>[]</td>\n",
       "    </tr>\n",
       "    <tr>\n",
       "      <th>1</th>\n",
       "      <td>None</td>\n",
       "      <td>True</td>\n",
       "      <td>des-tal</td>\n",
       "      <td>0</td>\n",
       "      <td>[]</td>\n",
       "    </tr>\n",
       "  </tbody>\n",
       "</table>\n",
       "</div>"
      ],
      "text/plain": [
       "  approved_by  archived   author  controversiality user_reports\n",
       "0        None     False  des-tal                 0           []\n",
       "1        None      True  des-tal                 0           []"
      ]
     },
     "execution_count": 2,
     "metadata": {},
     "output_type": "execute_result"
    }
   ],
   "source": [
    "# convert list of dict to df\n",
    "my_list = [{u'data': {u'approved_by': None,\n",
    "            u'archived': False,\n",
    "            u'author': u'des-tal',\n",
    "            u'controversiality': 0,\n",
    "            u'user_reports': []},\n",
    "            u'kind': u't1'},\n",
    "\n",
    "             {u'data': {u'approved_by': None,\n",
    "            u'archived': True,\n",
    "            u'author': u'des-tal',\n",
    "            u'controversiality': 0,\n",
    "            u'user_reports': []},\n",
    "            u'kind': u't1'}]\n",
    "\n",
    "import pandas as pd\n",
    "df = pd.DataFrame([i['data'] for i in my_list])\n",
    "df.head()"
   ]
  },
  {
   "cell_type": "code",
   "execution_count": 3,
   "metadata": {},
   "outputs": [
    {
     "name": "stdout",
     "output_type": "stream",
     "text": [
      "+----+---------------+------------+----------+--------------------+----------------+\n",
      "|    | approved_by   | archived   | author   |   controversiality | user_reports   |\n",
      "|----+---------------+------------+----------+--------------------+----------------|\n",
      "|  0 |               | False      | des-tal  |                  0 | []             |\n",
      "|  1 |               | True       | des-tal  |                  0 | []             |\n",
      "+----+---------------+------------+----------+--------------------+----------------+\n"
     ]
    }
   ],
   "source": [
    "# print\n",
    "from tabulate import tabulate\n",
    "print(tabulate(df, headers='keys', tablefmt='psql'))"
   ]
  },
  {
   "cell_type": "markdown",
   "metadata": {},
   "source": [
    "#### File"
   ]
  },
  {
   "cell_type": "code",
   "execution_count": null,
   "metadata": {},
   "outputs": [],
   "source": [
    "# Import necessary modules\n",
    "import glob\n",
    "import pandas as pd \n",
    "# Write the pattern: pattern \n",
    "pattern = '*.csv' \n",
    "# Save all file matches: csv_files\n",
    "csv_files = glob.glob(pattern) \n",
    "# Create an empty list: frames\n",
    "frames = [] \n",
    "# Iterate over csv_files \n",
    "for csv in csv_files: \n",
    "    # Read csv into a DataFrame: df \n",
    "    df = pd.read_csv(csv) \n",
    "    # Append df to frames \n",
    "    frames.append(df)\n",
    "# Concatenate frames into a single DataFrame: final_df\n",
    "final_df = pd.concat(frames)"
   ]
  },
  {
   "cell_type": "markdown",
   "metadata": {},
   "source": [
    "#### Good to know"
   ]
  },
  {
   "cell_type": "markdown",
   "metadata": {},
   "source": [
    "Inplace: https://stackoverflow.com/questions/45570984/pandas-is-inplace-true-considered-harmful-or-not"
   ]
  }
 ],
 "metadata": {
  "kernelspec": {
   "display_name": "Python 3",
   "language": "python",
   "name": "python3"
  },
  "language_info": {
   "codemirror_mode": {
    "name": "ipython",
    "version": 3
   },
   "file_extension": ".py",
   "mimetype": "text/x-python",
   "name": "python",
   "nbconvert_exporter": "python",
   "pygments_lexer": "ipython3",
   "version": "3.6.5"
  }
 },
 "nbformat": 4,
 "nbformat_minor": 2
}
