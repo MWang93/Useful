{
 "cells": [
  {
   "cell_type": "markdown",
   "metadata": {},
   "source": [
    "#### Time Count"
   ]
  },
  {
   "cell_type": "code",
   "execution_count": null,
   "metadata": {},
   "outputs": [],
   "source": [
    "t_start = time()\n",
    "print('done in %0.3f minutes.' % ((time() - t_start) / 60))"
   ]
  },
  {
   "cell_type": "markdown",
   "metadata": {},
   "source": [
    "#### Time Related"
   ]
  },
  {
   "cell_type": "code",
   "execution_count": 10,
   "metadata": {},
   "outputs": [
    {
     "name": "stdout",
     "output_type": "stream",
     "text": [
      "2018-06-01 2018-08-29\n"
     ]
    }
   ],
   "source": [
    "date_format = \"%Y-%m-%d\"\n",
    "from datetime import datetime\n",
    "from datetime import timedelta\n",
    "from datetime import date\n",
    "\n",
    "now = str(date.today())\n",
    "start = datetime.strptime(now, date_format)+timedelta(days=-2)\n",
    "start.strftime(date_format)\n",
    "\n",
    "now = datetime.now()\n",
    "start = now + timedelta(days=-90)\n",
    "start = start.strftime(date_format)\n",
    "end = now + timedelta(days=-1)\n",
    "end = end.strftime(date_format)\n",
    "\n",
    "print(start,end)"
   ]
  },
  {
   "cell_type": "markdown",
   "metadata": {},
   "source": [
    "#### Time Loop"
   ]
  },
  {
   "cell_type": "code",
   "execution_count": 3,
   "metadata": {},
   "outputs": [
    {
     "name": "stdout",
     "output_type": "stream",
     "text": [
      "['2018', '08', '25']\n",
      "['2018', '08', '26']\n",
      "['2018', '08', '27']\n",
      "['2018', '08', '28']\n",
      "['2018', '08', '29']\n"
     ]
    }
   ],
   "source": [
    "from datetime import date\n",
    "from dateutil.rrule import rrule, DAILY\n",
    "a = date(2018, 8, 25)\n",
    "b = date(2018, 8, 29)\n",
    "for dt in rrule(DAILY, dtstart=a, until=b):\n",
    "    datelist = dt.strftime('%Y-%m-%d').split('-')\n",
    "    print(datelist)"
   ]
  },
  {
   "cell_type": "markdown",
   "metadata": {},
   "source": [
    "#### DataFrame \n",
    "https://chrisalbon.com/python/data_wrangling/pandas_data_structures/"
   ]
  },
  {
   "cell_type": "code",
   "execution_count": 3,
   "metadata": {},
   "outputs": [],
   "source": [
    "import pandas as pd\n",
    "columns = ['a','b']\n",
    "df = pd.DataFrame(columns=columns)\n",
    "\n",
    "rows = [[1,2],[3,4],[5,6]]\n",
    "for row in rows:\n",
    "    df.loc[len(df)] = row"
   ]
  },
  {
   "cell_type": "code",
   "execution_count": 5,
   "metadata": {},
   "outputs": [
    {
     "name": "stdout",
     "output_type": "stream",
     "text": [
      "1 2\n",
      "3 4\n",
      "5 6\n"
     ]
    }
   ],
   "source": [
    "# iterate rows and get valeus of a,b column\n",
    "for index, row in df.iterrows():\n",
    "    print(row['a'],row['b'])"
   ]
  },
  {
   "cell_type": "code",
   "execution_count": 16,
   "metadata": {},
   "outputs": [],
   "source": [
    "import numpy as np\n",
    "import pandas as pd\n",
    "\n",
    "df = pd.DataFrame(np.random.rand(10,4),columns=list('ABCD'))\n",
    "\n",
    "for row in df.itertuples():\n",
    "    print(row.A, row.Index)"
   ]
  },
  {
   "cell_type": "markdown",
   "metadata": {},
   "source": [
    "#### Series"
   ]
  },
  {
   "cell_type": "code",
   "execution_count": 22,
   "metadata": {},
   "outputs": [],
   "source": [
    "# create a series\n",
    "import pandas as pd\n",
    "import numpy as np\n",
    "data = np.array(['a','b','c','d'])\n",
    "s = pd.Series(data,index=[100,101,102,103])"
   ]
  },
  {
   "cell_type": "code",
   "execution_count": 14,
   "metadata": {},
   "outputs": [],
   "source": [
    "# access data\n",
    "print(s[100]) # with index lable\n",
    "print(s[:3]) # with slice"
   ]
  },
  {
   "cell_type": "code",
   "execution_count": 13,
   "metadata": {
    "scrolled": true
   },
   "outputs": [
    {
     "name": "stdout",
     "output_type": "stream",
     "text": [
      "100 a\n",
      "101 b\n",
      "102 c\n",
      "103 d\n"
     ]
    }
   ],
   "source": [
    "# series iterate to get the index and value\n",
    "for i, v in s.items():\n",
    "    print(i,v)"
   ]
  },
  {
   "cell_type": "code",
   "execution_count": 21,
   "metadata": {},
   "outputs": [
    {
     "data": {
      "text/plain": [
       "{0: 1, 1: 2, 2: 3, 3: 4}"
      ]
     },
     "execution_count": 21,
     "metadata": {},
     "output_type": "execute_result"
    }
   ],
   "source": [
    "# series to dict\n",
    "s = pd.Series([1, 2, 3, 4])\n",
    "s.to_dict()\n",
    "{0: 1, 1: 2, 2: 3, 3: 4}"
   ]
  },
  {
   "cell_type": "code",
   "execution_count": null,
   "metadata": {},
   "outputs": [],
   "source": [
    "# create series from dict\n",
    "data = {'a' : 0., 'b' : 1., 'c' : 2.}\n",
    "s = pd.Series(data)"
   ]
  },
  {
   "cell_type": "code",
   "execution_count": 1,
   "metadata": {},
   "outputs": [
    {
     "name": "stdout",
     "output_type": "stream",
     "text": [
      "[6, 3, 4, 6] [0, 1, 2, 3]\n"
     ]
    }
   ],
   "source": [
    "# Series to Value and Index (Arrary) to List\n",
    "import pandas as pd\n",
    "s= pd.Series([6,3,4,6])\n",
    "print(s.values.tolist(),s.index.values.tolist())"
   ]
  },
  {
   "cell_type": "markdown",
   "metadata": {},
   "source": [
    "#### Filter Rows\n",
    "-  https://stackoverflow.com/questions/15325182/how-to-filter-rows-in-pandas-by-regex"
   ]
  }
 ],
 "metadata": {
  "kernelspec": {
   "display_name": "Python 3",
   "language": "python",
   "name": "python3"
  },
  "language_info": {
   "codemirror_mode": {
    "name": "ipython",
    "version": 3
   },
   "file_extension": ".py",
   "mimetype": "text/x-python",
   "name": "python",
   "nbconvert_exporter": "python",
   "pygments_lexer": "ipython3",
   "version": "3.6.5"
  }
 },
 "nbformat": 4,
 "nbformat_minor": 2
}
