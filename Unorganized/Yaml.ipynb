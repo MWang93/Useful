{
 "cells": [
  {
   "cell_type": "markdown",
   "metadata": {},
   "source": [
    "https://martin-thoma.com/configuration-files-in-python/#yaml"
   ]
  },
  {
   "cell_type": "markdown",
   "metadata": {},
   "source": [
    "### PYTHON"
   ]
  },
  {
   "cell_type": "code",
   "execution_count": null,
   "metadata": {
    "scrolled": true
   },
   "outputs": [],
   "source": [
    "import preprocessing\n",
    "mysql = {'host': 'localhost',\n",
    "         'user': 'root',\n",
    "         'passwd': 'my secret password',\n",
    "         'db': 'write-math'}\n",
    "preprocessing_queue = [preprocessing.scale_and_center,\n",
    "                       preprocessing.dot_reduction,\n",
    "                       preprocessing.connect_lines]\n",
    "use_anonymous = True"
   ]
  },
  {
   "cell_type": "code",
   "execution_count": null,
   "metadata": {},
   "outputs": [],
   "source": [
    "import databaseconfig as cfg\n",
    "connect(cfg.mysql['host'], cfg.mysql['user'], cfg.mysql['password'])"
   ]
  },
  {
   "cell_type": "markdown",
   "metadata": {},
   "source": [
    "### JSON"
   ]
  },
  {
   "cell_type": "markdown",
   "metadata": {},
   "source": [
    "https://pyyaml.org/wiki/PyYAMLDocumentation"
   ]
  },
  {
   "cell_type": "markdown",
   "metadata": {},
   "source": [
    "The file itself might look like this:\n",
    "{\n",
    "    \"mysql\":{\n",
    "        \"host\":\"localhost\",\n",
    "        \"user\":\"root\",\n",
    "        \"passwd\":\"my secret password\",\n",
    "        \"db\":\"write-math\"\n",
    "    },\n",
    "    \"other\":{\n",
    "        \"preprocessing_queue\":[\n",
    "            \"preprocessing.scale_and_center\",\n",
    "            \"preprocessing.dot_reduction\",\n",
    "            \"preprocessing.connect_lines\"\n",
    "            ],\n",
    "        \"use_anonymous\":true\n",
    "    }\n",
    "}"
   ]
  },
  {
   "cell_type": "code",
   "execution_count": 7,
   "metadata": {},
   "outputs": [
    {
     "name": "stdout",
     "output_type": "stream",
     "text": [
      "{'mysql': {'host': 'localhost', 'user': 'root', 'passwd': 'my secret password', 'db': 'write-math'}, 'other': {'preprocessing_queue': ['preprocessing.scale_and_center', 'preprocessing.dot_reduction', 'preprocessing.connect_lines'], 'use_anonymous': True}}\n"
     ]
    }
   ],
   "source": [
    "import json\n",
    "\n",
    "with open('/Users/mwang/Documents/Mine/config.json') as json_data_file:\n",
    "    data = json.load(json_data_file)\n",
    "print(data)"
   ]
  },
  {
   "cell_type": "markdown",
   "metadata": {},
   "source": [
    "###  YAML"
   ]
  },
  {
   "cell_type": "markdown",
   "metadata": {},
   "source": [
    "The file itself might look like this:\n",
    "mysql:\n",
    "    host: localhost\n",
    "    user: root\n",
    "    passwd: my secret password\n",
    "    db: write-math\n",
    "other:\n",
    "    preprocessing_queue:\n",
    "        - preprocessing.scale_and_center\n",
    "        - preprocessing.dot_reduction\n",
    "        - preprocessing.connect_lines\n",
    "    use_anonymous: yes"
   ]
  },
  {
   "cell_type": "code",
   "execution_count": 2,
   "metadata": {},
   "outputs": [
    {
     "name": "stdout",
     "output_type": "stream",
     "text": [
      "mysql\n",
      "other\n",
      "{'host': 'localhost', 'user': 'root', 'passwd': 'my secret password', 'db': 'write-math'}\n",
      "{'preprocessing_queue': ['preprocessing.scale_and_center', 'preprocessing.dot_reduction', 'preprocessing.connect_lines'], 'use_anonymous': True}\n"
     ]
    }
   ],
   "source": [
    "import yaml\n",
    "with open(\"/Users/mwang/Documents/Mine/config.yml\", 'r') as ymlfile:\n",
    "    cfg = yaml.load(ymlfile)\n",
    "\n",
    "for section in cfg:\n",
    "    print(section)\n",
    "print(cfg['mysql'])\n",
    "print(cfg['other'])"
   ]
  },
  {
   "cell_type": "code",
   "execution_count": null,
   "metadata": {},
   "outputs": [],
   "source": [
    "yaml.dump(cfg, open(\"ymlfile.yaml\", \"w\"))\n",
    "# Note that the YAML file is written in flow style by default. This makes it look a bit like JSON. \n",
    "# For human readability, it might be better to dump in block style, like this:\n",
    "yaml.dump(y, open(\"ymlfile.yaml\", \"w\"), default_flow_style=False)"
   ]
  }
 ],
 "metadata": {
  "kernelspec": {
   "display_name": "Python 3",
   "language": "python",
   "name": "python3"
  },
  "language_info": {
   "codemirror_mode": {
    "name": "ipython",
    "version": 3
   },
   "file_extension": ".py",
   "mimetype": "text/x-python",
   "name": "python",
   "nbconvert_exporter": "python",
   "pygments_lexer": "ipython3",
   "version": "3.6.5"
  }
 },
 "nbformat": 4,
 "nbformat_minor": 2
}
